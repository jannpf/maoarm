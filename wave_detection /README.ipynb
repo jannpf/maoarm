{
 "cells": [
  {
   "metadata": {},
   "cell_type": "markdown",
   "source": "# Overview",
   "id": "226d7919fa7d94db"
  },
  {
   "metadata": {},
   "cell_type": "markdown",
   "source": "This Python script detects dynamic waving gestures using a webcam feed. It leverages MediaPipe Hands to detect hand landmarks and tracks the horizontal (X-axis) movement of the wrist over a short time window. If the wrist moves back and forth across a defined threshold, it classifies the motion as a wave gesture.",
   "id": "23f0702d5765c974"
  },
  {
   "metadata": {},
   "cell_type": "markdown",
   "source": "## Dependencies:\n",
   "id": "d805e89d0b6b4744"
  },
  {
   "metadata": {},
   "cell_type": "markdown",
   "source": [
    "- opencv-python (cv2)\n",
    "- mediapipe"
   ],
   "id": "501b17440597989b"
  }
 ],
 "metadata": {
  "kernelspec": {
   "display_name": "Python 3",
   "language": "python",
   "name": "python3"
  },
  "language_info": {
   "codemirror_mode": {
    "name": "ipython",
    "version": 2
   },
   "file_extension": ".py",
   "mimetype": "text/x-python",
   "name": "python",
   "nbconvert_exporter": "python",
   "pygments_lexer": "ipython2",
   "version": "2.7.6"
  }
 },
 "nbformat": 4,
 "nbformat_minor": 5
}
